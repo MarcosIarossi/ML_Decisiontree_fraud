{
 "cells": [
  {
   "cell_type": "markdown",
   "id": "9a37f0b4",
   "metadata": {},
   "source": [
    "**Library Import**"
   ]
  },
  {
   "cell_type": "code",
   "execution_count": null,
   "id": "8997ede6",
   "metadata": {},
   "outputs": [],
   "source": [
    "import matplotlib.pyplot as plt\n",
    "import pandas as pd\n",
    "import numpy as np\n",
    "from sklearn import(ensemble, preprocessing, tree)\n",
    "from sklearn import model_selection\n",
    "from sklearn.model_selection import train_test_split\n",
    "from sklearn.metrics import (auc, confusion_matrix, roc_auc_score, roc_curve, accuracy_score, classification_report)\n",
    "from sklearn.model_selection import (train_test_split, StratifiedKFold)\n",
    "from yellowbrick.classifier import (ConfusionMatrix, ROCAUC)\n",
    "from yellowbrick.model_selection import (LearningCurve)\n",
    "from sklearn.ensemble import RandomForestClassifier\n",
    "from sklearn.tree import DecisionTreeClassifier"
   ]
  },
  {
   "cell_type": "markdown",
   "id": "3ff8253f",
   "metadata": {},
   "source": [
    "**File upload/read**"
   ]
  },
  {
   "cell_type": "code",
   "execution_count": null,
   "id": "eb7d8347",
   "metadata": {},
   "outputs": [],
   "source": [
    "df = pd.read_csv('Unidas_category_upgrade.csv', sep = \";\")"
   ]
  },
  {
   "cell_type": "code",
   "execution_count": null,
   "id": "00a5407a",
   "metadata": {},
   "outputs": [],
   "source": [
    "df.head()"
   ]
  },
  {
   "cell_type": "code",
   "execution_count": null,
   "id": "788b1c75",
   "metadata": {
    "scrolled": true
   },
   "outputs": [],
   "source": [
    "df.info()"
   ]
  },
  {
   "cell_type": "markdown",
   "id": "e227b056",
   "metadata": {},
   "source": [
    "# Modelo teste: Arvore de decisão"
   ]
  },
  {
   "cell_type": "code",
   "execution_count": null,
   "id": "3a304434",
   "metadata": {},
   "outputs": [],
   "source": [
    "y = df.Fraude\n",
    "X = df.drop(columns=\"Fraude\")"
   ]
  },
  {
   "cell_type": "code",
   "execution_count": null,
   "id": "b3bc0aaf",
   "metadata": {},
   "outputs": [],
   "source": [
    "df.query(\"Fraude == 'Issue'\").describe().T"
   ]
  },
  {
   "cell_type": "code",
   "execution_count": null,
   "id": "c3a5036c",
   "metadata": {},
   "outputs": [],
   "source": [
    "predictors_train, predictors_test, target_train, target_test = train_test_split(\n",
    "    df.drop(['Fraude'], axis=1), \n",
    "    df['Fraude'], \n",
    "    test_size=1, \n",
    "    random_state=123\n",
    ")"
   ]
  },
  {
   "cell_type": "markdown",
   "id": "a4945d5a",
   "metadata": {},
   "source": [
    "#### Variáveis Preditoras"
   ]
  },
  {
   "cell_type": "code",
   "execution_count": null,
   "id": "a1cf3d50",
   "metadata": {},
   "outputs": [],
   "source": [
    "predictors_train.head()"
   ]
  },
  {
   "cell_type": "code",
   "execution_count": null,
   "id": "601e8654",
   "metadata": {},
   "outputs": [],
   "source": [
    "predictors_train.shape"
   ]
  },
  {
   "cell_type": "code",
   "execution_count": null,
   "id": "a911c9f9",
   "metadata": {},
   "outputs": [],
   "source": [
    "predictors_test.head()"
   ]
  },
  {
   "cell_type": "code",
   "execution_count": null,
   "id": "9c7f4aec",
   "metadata": {},
   "outputs": [],
   "source": [
    "predictors_test.shape"
   ]
  },
  {
   "cell_type": "markdown",
   "id": "d4a58987",
   "metadata": {},
   "source": [
    "#### Variáveis Preditoras(target)\n",
    "\n"
   ]
  },
  {
   "cell_type": "code",
   "execution_count": null,
   "id": "dae05329",
   "metadata": {},
   "outputs": [],
   "source": [
    "target_train.head()"
   ]
  },
  {
   "cell_type": "code",
   "execution_count": null,
   "id": "1f9e24c2",
   "metadata": {},
   "outputs": [],
   "source": [
    "target_train.shape"
   ]
  },
  {
   "cell_type": "code",
   "execution_count": null,
   "id": "5f0ed20e",
   "metadata": {},
   "outputs": [],
   "source": [
    "target_test.head()"
   ]
  },
  {
   "cell_type": "code",
   "execution_count": null,
   "id": "98eb352a",
   "metadata": {},
   "outputs": [],
   "source": [
    "target_test.shape"
   ]
  },
  {
   "cell_type": "markdown",
   "id": "2a76c178",
   "metadata": {},
   "source": [
    "# Algoritmo de Treino"
   ]
  },
  {
   "cell_type": "code",
   "execution_count": null,
   "id": "3e2937ed",
   "metadata": {},
   "outputs": [],
   "source": [
    "model = DecisionTreeClassifier()"
   ]
  },
  {
   "cell_type": "code",
   "execution_count": null,
   "id": "ca3f9182",
   "metadata": {},
   "outputs": [],
   "source": [
    "model = model.fit(predictors_train, target_train)"
   ]
  },
  {
   "cell_type": "code",
   "execution_count": null,
   "id": "3b8e9cea",
   "metadata": {},
   "outputs": [],
   "source": [
    "model.__dict__"
   ]
  },
  {
   "cell_type": "code",
   "execution_count": null,
   "id": "b0ce4187",
   "metadata": {
    "scrolled": true
   },
   "outputs": [],
   "source": [
    "import graphviz\n",
    "from sklearn import tree\n",
    "\n",
    "tree_data = tree.export_graphviz(model, out_file=None) \n",
    "graph = graphviz.Source(tree_data) \n",
    "graph"
   ]
  },
  {
   "cell_type": "code",
   "execution_count": null,
   "id": "4e5224dd",
   "metadata": {},
   "outputs": [],
   "source": [
    "df.head(1)"
   ]
  },
  {
   "cell_type": "markdown",
   "id": "71cc757f",
   "metadata": {},
   "source": [
    "### Avaliação"
   ]
  },
  {
   "cell_type": "code",
   "execution_count": null,
   "id": "d4813f03",
   "metadata": {},
   "outputs": [],
   "source": [
    "target_predicted = model.predict(predictors_test)"
   ]
  },
  {
   "cell_type": "code",
   "execution_count": null,
   "id": "6519671b",
   "metadata": {},
   "outputs": [],
   "source": [
    "target_predicted[0:5]"
   ]
  },
  {
   "cell_type": "code",
   "execution_count": null,
   "id": "2eb007b7",
   "metadata": {},
   "outputs": [],
   "source": [
    "target_predicted.shape"
   ]
  },
  {
   "cell_type": "code",
   "execution_count": null,
   "id": "d5a4993b",
   "metadata": {},
   "outputs": [],
   "source": [
    "import matplotlib.pyplot as plt\n",
    "from sklearn.metrics import confusion_matrix"
   ]
  },
  {
   "cell_type": "code",
   "execution_count": null,
   "id": "db70060a",
   "metadata": {},
   "outputs": [],
   "source": [
    "confusion_matrix = confusion_matrix(target_test, target_predicted)\n",
    "print(confusion_matrix)"
   ]
  },
  {
   "cell_type": "code",
   "execution_count": null,
   "id": "d98417c6",
   "metadata": {},
   "outputs": [],
   "source": [
    "from sklearn.metrics import plot_confusion_matrix"
   ]
  },
  {
   "cell_type": "code",
   "execution_count": null,
   "id": "455fea15",
   "metadata": {},
   "outputs": [],
   "source": [
    "plot_confusion_matrix(model, predictors_test, target_test)\n",
    "plt.show()"
   ]
  },
  {
   "cell_type": "markdown",
   "id": "7253c7e1",
   "metadata": {},
   "source": [
    "#### Calculo Matriz de Confusão"
   ]
  },
  {
   "cell_type": "code",
   "execution_count": null,
   "id": "522e2a11",
   "metadata": {},
   "outputs": [],
   "source": [
    "total = confusion_matrix.sum()\n",
    "print(total)"
   ]
  },
  {
   "cell_type": "code",
   "execution_count": null,
   "id": "e25dfad6",
   "metadata": {},
   "outputs": [],
   "source": [
    "acertos = np.diag(confusion_matrix).sum()\n",
    "print(acertos)"
   ]
  },
  {
   "cell_type": "code",
   "execution_count": null,
   "id": "59c0a68b",
   "metadata": {},
   "outputs": [],
   "source": [
    "acuracia = acertos / total\n",
    "print(acuracia)"
   ]
  },
  {
   "cell_type": "code",
   "execution_count": null,
   "id": "23843881",
   "metadata": {},
   "outputs": [],
   "source": [
    "print(f\"{round(100 * acuracia, 2)}%\")"
   ]
  },
  {
   "cell_type": "markdown",
   "id": "f45c3429",
   "metadata": {},
   "source": [
    "#### Acurácia"
   ]
  },
  {
   "cell_type": "code",
   "execution_count": null,
   "id": "4b6cd8fe",
   "metadata": {},
   "outputs": [],
   "source": [
    "from sklearn.metrics import accuracy_score"
   ]
  },
  {
   "cell_type": "code",
   "execution_count": null,
   "id": "b9848d9f",
   "metadata": {},
   "outputs": [],
   "source": [
    "acuracia = accuracy_score(target_test, target_predicted)\n",
    "print(acuracia)"
   ]
  },
  {
   "cell_type": "code",
   "execution_count": null,
   "id": "38b43581",
   "metadata": {},
   "outputs": [],
   "source": [
    "print(f\"{round(100 * acuracia, 2)}%\")"
   ]
  },
  {
   "cell_type": "markdown",
   "id": "e6ce4eee",
   "metadata": {},
   "source": [
    "### Comparando"
   ]
  },
  {
   "cell_type": "code",
   "execution_count": null,
   "id": "bc6a020b",
   "metadata": {},
   "outputs": [],
   "source": [
    "dfc = pd.read_csv('Unidas_category_upgrade_g.csv', sep = \";\")"
   ]
  },
  {
   "cell_type": "code",
   "execution_count": null,
   "id": "f4f17f68",
   "metadata": {},
   "outputs": [],
   "source": [
    "dfc.head()"
   ]
  },
  {
   "cell_type": "code",
   "execution_count": null,
   "id": "f1cc5303",
   "metadata": {},
   "outputs": [],
   "source": [
    "# Verifique as colunas do DataFrame\n",
    "if 'Fraude' in dfc.columns:\n",
    "    # Faça algo com a coluna 'Fraude'\n",
    "    dfc.drop('Fraude', axis=1, inplace=True)  # ou qualquer outra operação\n",
    "else:\n",
    "    print(\"A coluna 'Fraude' não foi encontrada no DataFrame.\")"
   ]
  },
  {
   "cell_type": "code",
   "execution_count": null,
   "id": "8c2adf67",
   "metadata": {},
   "outputs": [],
   "source": [
    "# Fazendo previsões no novo dataframe\n",
    "prev = model.predict(dfc)\n"
   ]
  },
  {
   "cell_type": "code",
   "execution_count": null,
   "id": "b53bbdf0",
   "metadata": {},
   "outputs": [],
   "source": [
    "dfc['Analise_modelo'] = prev"
   ]
  },
  {
   "cell_type": "code",
   "execution_count": null,
   "id": "ad6fad98",
   "metadata": {},
   "outputs": [],
   "source": [
    "dfc.to_excel('output_model.xlsx', index=False)"
   ]
  }
 ],
 "metadata": {
  "kernelspec": {
   "display_name": "Python 3 (ipykernel)",
   "language": "python",
   "name": "python3"
  },
  "language_info": {
   "codemirror_mode": {
    "name": "ipython",
    "version": 3
   },
   "file_extension": ".py",
   "mimetype": "text/x-python",
   "name": "python",
   "nbconvert_exporter": "python",
   "pygments_lexer": "ipython3",
   "version": "3.9.13"
  }
 },
 "nbformat": 4,
 "nbformat_minor": 5
}
